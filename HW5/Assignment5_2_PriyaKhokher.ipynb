{
 "cells": [
  {
   "cell_type": "code",
   "execution_count": 108,
   "metadata": {
    "collapsed": false
   },
   "outputs": [
    {
     "name": "stdout",
     "output_type": "stream",
     "text": [
      "Populating the interactive namespace from numpy and matplotlib\n"
     ]
    }
   ],
   "source": [
    "import numpy as np\n",
    "import pandas as pd\n",
    "import matplotlib.pyplot as plt\n",
    "import pylab as pl\n",
    "import json\n",
    "import os\n",
    "import scipy.stats as stats\n",
    "\n",
    "import statsmodels.api as sm\n",
    "s=json.load(open('pui.json'))\n",
    "pl.rcParams.update(s)\n",
    "%pylab inline"
   ]
  },
  {
   "cell_type": "code",
   "execution_count": 95,
   "metadata": {
    "collapsed": true
   },
   "outputs": [],
   "source": [
    "url=\"http://cosmo.nyu.edu/~fb55/UI_CUSP_2015/data/\""
   ]
  },
  {
   "cell_type": "code",
   "execution_count": 96,
   "metadata": {
    "collapsed": true
   },
   "outputs": [],
   "source": [
    "allmales={}\n",
    "allfemales={}\n",
    "allmales['all']=pd.read_excel(url+'/pinc08_2_1_1.xls',header=9)#%s/pinc03_2_1_1.xls'%url, header=9)\n",
    "allmales['white']=pd.read_excel(url+'/pinc08_2_1_4.xls', header=9)\n",
    "allmales['black']=pd.read_excel(url+'/pinc08_2_1_6.xls', header=9)\n",
    "allmales['hispanic']=pd.read_excel(url+'/pinc08_2_1_9.xls', header=9)\n",
    "allmales['asian']=pd.read_excel(url+'/pinc08_2_1_8.xls', header=9)"
   ]
  },
  {
   "cell_type": "code",
   "execution_count": 97,
   "metadata": {
    "collapsed": true
   },
   "outputs": [],
   "source": [
    "allfemales['all']=pd.read_excel(url+'/pinc08_3_1_1.xls', header=9)\n",
    "allfemales['white']=pd.read_excel(url+'/pinc08_3_1_4.xls', header=9)\n",
    "allfemales['black']=pd.read_excel(url+'/pinc08_3_1_6.xls', header=9)\n",
    "allfemales['hispanic']=pd.read_excel(url+'/pinc08_3_1_9.xls', header=9)\n",
    "allfemales['asian']=pd.read_excel(url+'/pinc08_3_1_8.xls', header=9)"
   ]
  },
  {
   "cell_type": "code",
   "execution_count": 98,
   "metadata": {
    "collapsed": true
   },
   "outputs": [],
   "source": [
    "from pandas.tools.plotting import scatter_matrix"
   ]
  },
  {
   "cell_type": "code",
   "execution_count": 99,
   "metadata": {
    "collapsed": false
   },
   "outputs": [
    {
     "name": "stderr",
     "output_type": "stream",
     "text": [
      "C:\\Users\\PRIYA  SINGH\\Anaconda\\lib\\site-packages\\IPython\\kernel\\__main__.py:5: SettingWithCopyWarning: \n",
      "A value is trying to be set on a copy of a slice from a DataFrame\n",
      "\n",
      "See the the caveats in the documentation: http://pandas.pydata.org/pandas-docs/stable/indexing.html#indexing-view-versus-copy\n"
     ]
    }
   ],
   "source": [
    "for k in allmales:\n",
    "    nonreal  = allmales[k].applymap(np.isreal)\n",
    "    for c in allmales[k].columns :\n",
    "        if nonreal.sum()[c]>1 and nonreal.sum()[c]<49:\n",
    "            allmales[k][c][~nonreal[c]] = np.float('NaN')\n",
    "            allmales[k][c] = allmales[k][c].astype(float)"
   ]
  },
  {
   "cell_type": "code",
   "execution_count": 73,
   "metadata": {
    "collapsed": false
   },
   "outputs": [
    {
     "data": {
      "text/plain": [
       "1     40122\n",
       "2     44882\n",
       "3     45554\n",
       "4     20445\n",
       "5      3737\n",
       "6     16625\n",
       "7      8381\n",
       "8      1662\n",
       "9     10759\n",
       "10    10599\n",
       "11    12494\n",
       "12     4262\n",
       "13     4915\n",
       "14     1730\n",
       "15     1463\n",
       "16     1943\n",
       "17     2471\n",
       "18    17434\n",
       "19    11920\n",
       "20    29225\n",
       "21    22025\n",
       "22    26812\n",
       "23    37187\n",
       "24     8374\n",
       "25    11884\n",
       "26    12174\n",
       "27    17446\n",
       "28    11798\n",
       "29    29375\n",
       "30    22590\n",
       "31    26868\n",
       "32    37724\n",
       "33    13975\n",
       "35     2579\n",
       "36     5336\n",
       "37     4076\n",
       "38     1772\n",
       "40    35621\n",
       "41    39531\n",
       "42    16698\n",
       "43    20481\n",
       "44    16561\n",
       "45     7988\n",
       "46    16272\n",
       "47    14924\n",
       "Name: Median income, dtype: float64"
      ]
     },
     "execution_count": 73,
     "metadata": {},
     "output_type": "execute_result"
    }
   ],
   "source": [
    "k=allmales['white']['Median income']\n",
    "k.dropna()\n"
   ]
  },
  {
   "cell_type": "code",
   "execution_count": 114,
   "metadata": {
    "collapsed": false
   },
   "outputs": [],
   "source": [
    "X=allfemales['white']['Median income'].convert_objects(convert_numeric=True)\n",
    "Y=allmales['white']['Median income'].convert_objects(convert_numeric=True)\n"
   ]
  },
  {
   "cell_type": "code",
   "execution_count": 115,
   "metadata": {
    "collapsed": false
   },
   "outputs": [
    {
     "name": "stdout",
     "output_type": "stream",
     "text": [
      "0      NaN\n",
      "1    23780\n",
      "2    30626\n",
      "3    30919\n",
      "4    10328\n",
      "Name: Median income, dtype: float64\n",
      "0      NaN\n",
      "1    40122\n",
      "2    44882\n",
      "3    45554\n",
      "4    20445\n",
      "Name: Median income, dtype: float64\n"
     ]
    }
   ],
   "source": [
    "print X.head()\n",
    "print Y.head()"
   ]
  },
  {
   "cell_type": "code",
   "execution_count": 116,
   "metadata": {
    "collapsed": false
   },
   "outputs": [
    {
     "name": "stdout",
     "output_type": "stream",
     "text": [
      "49\n",
      "49\n",
      "45\n",
      "45\n",
      "45\n",
      "45\n",
      "<type 'list'>\n"
     ]
    }
   ],
   "source": [
    "print len(Y)\n",
    "print len(X)\n",
    "X=X.dropna()\n",
    "Y=Y.dropna()\n",
    "X=X[:45]\n",
    "print len(Y)\n",
    "\n",
    "print len(X)\n",
    "X=list(X)\n",
    "Y=list(Y)\n",
    "print len(Y)\n",
    "\n",
    "print len(X)\n",
    "print type(X)"
   ]
  },
  {
   "cell_type": "code",
   "execution_count": 117,
   "metadata": {
    "collapsed": false
   },
   "outputs": [
    {
     "name": "stdout",
     "output_type": "stream",
     "text": [
      "[23780.0, 30626.0, 30919.0, 10328.0, 1645.0, 12038.0, 7812.0, 2205.0, 12827.0, 8195.0, 9496.0, 4005.0, 3407.0, 1650.0, 1420.0, 1899.0, 2491.0, 10286.0, 6441.0, 17934.0, 10843.0, 17748.0, 13366.0, 4648.0, 10013.0, 6732.0, 10426.0, 5921.0, 23354.0, 14612.0, 18777.0, 13563.0, 3522.0, 8011.0, 4255.0, 4885.0, 4512.0, 1938.0, 21500.0, 23998.0, 12055.0, 13451.0, 11848.0, 6517.0, 11755.0] [40122.0, 44882.0, 45554.0, 20445.0, 3737.0, 16625.0, 8381.0, 1662.0, 10759.0, 10599.0, 12494.0, 4262.0, 4915.0, 1730.0, 1463.0, 1943.0, 2471.0, 17434.0, 11920.0, 29225.0, 22025.0, 26812.0, 37187.0, 8374.0, 11884.0, 12174.0, 17446.0, 11798.0, 29375.0, 22590.0, 26868.0, 37724.0, 13975.0, 2579.0, 5336.0, 4076.0, 1772.0, 35621.0, 39531.0, 16698.0, 20481.0, 16561.0, 7988.0, 16272.0, 14924.0]\n"
     ]
    }
   ],
   "source": [
    "print X, Y"
   ]
  },
  {
   "cell_type": "code",
   "execution_count": 131,
   "metadata": {
    "collapsed": false,
    "scrolled": false
   },
   "outputs": [
    {
     "name": "stdout",
     "output_type": "stream",
     "text": [
      "                            OLS Regression Results                            \n",
      "==============================================================================\n",
      "Dep. Variable:                      y   R-squared:                       0.862\n",
      "Model:                            OLS   Adj. R-squared:                  0.859\n",
      "Method:                 Least Squares   F-statistic:                     276.0\n",
      "Date:                Tue, 13 Oct 2015   Prob (F-statistic):           1.42e-20\n",
      "Time:                        23:17:20   Log-Likelihood:                -466.94\n",
      "No. Observations:                  45   AIC:                             935.9\n",
      "Df Residuals:                      44   BIC:                             937.7\n",
      "Df Model:                           1                                         \n",
      "Covariance Type:            nonrobust                                         \n",
      "==============================================================================\n",
      "                 coef    std err          t      P>|t|      [95.0% Conf. Int.]\n",
      "------------------------------------------------------------------------------\n",
      "x1             1.4909      0.090     16.613      0.000         1.310     1.672\n",
      "==============================================================================\n",
      "Omnibus:                       27.582   Durbin-Watson:                   1.995\n",
      "Prob(Omnibus):                  0.000   Jarque-Bera (JB):               76.582\n",
      "Skew:                           1.490   Prob(JB):                     2.35e-17\n",
      "Kurtosis:                       8.654   Cond. No.                         1.00\n",
      "==============================================================================\n",
      "\n",
      "Warnings:\n",
      "[1] Standard Errors assume that the covariance matrix of the errors is correctly specified.\n"
     ]
    },
    {
     "data": {
      "image/png": "[encoded data removed]",
      "text/plain": [
       "<matplotlib.figure.Figure at 0x11d8a670>"
      ]
     },
     "metadata": {},
     "output_type": "display_data"
    },
    {
     "data": {
      "text/plain": [
       "<matplotlib.figure.Figure at 0x11f3fd50>"
      ]
     },
     "metadata": {},
     "output_type": "display_data"
    }
   ],
   "source": [
    "ax1=plt.subplot()\n",
    "\n",
    "ax1.scatter(X,Y)\n",
    "x=np.linspace(0,35000,1000)\n",
    "y=x\n",
    "model=sm.OLS(Y,X)\n",
    "results=model.fit()\n",
    "print results.summary()\n",
    "fig1=figure(figsize=(10,10))\n",
    "#m=sm.add_constant(X)\n",
    "x1=np.linspace(0,35000,1000)\n",
    "y1=1.4*x\n",
    "#k=sm.graphics.plot_fit(results, 0, ax=ax1)\n",
    "ax1.plot(x,y)\n",
    "ax1.plot(x1,y1)\n",
    "plt.show()\n"
   ]
  },
  {
   "cell_type": "code",
   "execution_count": 136,
   "metadata": {
    "collapsed": false
   },
   "outputs": [],
   "source": [
    "\n",
    "cor = stats.spearmanr(X,Y)\n",
    "std(Y)/std(X)\n",
    "beta1=cor[0]*std(X)/std(Y)\n",
    "beta0=mean(X)-beta1*mean(Y)"
   ]
  },
  {
   "cell_type": "code",
   "execution_count": 139,
   "metadata": {
    "collapsed": false
   },
   "outputs": [
    {
     "data": {
      "text/plain": [
       "[<matplotlib.lines.Line2D at 0x124238b0>]"
      ]
     },
     "execution_count": 139,
     "metadata": {},
     "output_type": "execute_result"
    },
    {
     "data": {
      "image/png": "[encoded data removed]",
      "text/plain": [
       "<matplotlib.figure.Figure at 0x1236d110>"
      ]
     },
     "metadata": {},
     "output_type": "display_data"
    }
   ],
   "source": [
    "ax1=plt.subplot()\n",
    "\n",
    "ax1.scatter(X,Y)\n",
    "x=np.linspace(0,35000,1000)\n",
    "y=beta1*x +beta0\n",
    "ax1.plot(x,y)"
   ]
  },
  {
   "cell_type": "code",
   "execution_count": 147,
   "metadata": {
    "collapsed": false
   },
   "outputs": [
    {
     "data": {
      "text/plain": [
       "numpy.ma.core.MaskedArray"
      ]
     },
     "execution_count": 147,
     "metadata": {},
     "output_type": "execute_result"
    }
   ],
   "source": [
    "all_males=np.ma.array(np.concatenate([allmales['all']['Median income'][:].values,allmales['white']['Median income'][:].values,allmales['black']['Median income'][:].values,allmales['hispanic']['Median income'][:].values,allmales['asian']['Median income'][:].values]).flatten())\n",
    "\n",
    "all_females=np.ma.array(np.concatenate([allfemales['all']['Median income'][:].values,allfemales['white']['Median income'][:].values,allfemales['black']['Median income'][:].values,allfemales['hispanic']['Median income'][:].values,allfemales['asian']['Median income'][:].values]).flatten())\n",
    "type(all_males)"
   ]
  },
  {
   "cell_type": "code",
   "execution_count": 156,
   "metadata": {
    "collapsed": false
   },
   "outputs": [
    {
     "ename": "TypeError",
     "evalue": "ufunc 'isnan' not supported for the input types, and the inputs could not be safely coerced to any supported types according to the casting rule ''safe''",
     "output_type": "error",
     "traceback": [
      "\u001b[1;31m---------------------------------------------------------------------------\u001b[0m",
      "\u001b[1;31mTypeError\u001b[0m                                 Traceback (most recent call last)",
      "\u001b[1;32m<ipython-input-156-5f171a107a9f>\u001b[0m in \u001b[0;36m<module>\u001b[1;34m()\u001b[0m\n\u001b[1;32m----> 1\u001b[1;33m \u001b[0mallmask\u001b[0m \u001b[1;33m=\u001b[0m \u001b[1;33m[\u001b[0m\u001b[1;33m(\u001b[0m\u001b[0mnp\u001b[0m\u001b[1;33m.\u001b[0m\u001b[0misnan\u001b[0m\u001b[1;33m(\u001b[0m\u001b[0mall_males\u001b[0m\u001b[1;33m)\u001b[0m\u001b[1;33m)\u001b[0m \u001b[1;33m+\u001b[0m \u001b[1;33m(\u001b[0m\u001b[0mnp\u001b[0m\u001b[1;33m.\u001b[0m\u001b[0misnan\u001b[0m\u001b[1;33m(\u001b[0m\u001b[0mall_females\u001b[0m\u001b[1;33m)\u001b[0m\u001b[1;33m)\u001b[0m\u001b[1;33m]\u001b[0m\u001b[1;33m\u001b[0m\u001b[0m\n\u001b[0m\u001b[0;32m      2\u001b[0m \u001b[1;33m\u001b[0m\u001b[0m\n\u001b[0;32m      3\u001b[0m \u001b[0mall_females\u001b[0m\u001b[1;33m.\u001b[0m\u001b[0mmask\u001b[0m \u001b[1;33m=\u001b[0m \u001b[0mallmask\u001b[0m\u001b[1;33m\u001b[0m\u001b[0m\n\u001b[0;32m      4\u001b[0m \u001b[0mall_males\u001b[0m\u001b[1;33m.\u001b[0m\u001b[0mmask\u001b[0m \u001b[1;33m=\u001b[0m \u001b[0mallmask\u001b[0m\u001b[1;33m\u001b[0m\u001b[0m\n",
      "\u001b[1;31mTypeError\u001b[0m: ufunc 'isnan' not supported for the input types, and the inputs could not be safely coerced to any supported types according to the casting rule ''safe''"
     ]
    }
   ],
   "source": [
    "allmask = [(np.isnan(all_males)) + (np.isnan(all_females))]\n",
    "\n",
    "all_females.mask = allmask\n",
    "all_males.mask = allmask"
   ]
  },
  {
   "cell_type": "code",
   "execution_count": 151,
   "metadata": {
    "collapsed": false
   },
   "outputs": [
    {
     "data": {
      "text/plain": [
       "masked_array(data = [True False False False False False False False False False False False\n",
       " False False False False False False False False False False False False\n",
       " False False False False False False False False False False True False\n",
       " False False False True False False False False False False False False\n",
       " True True False False False False False False False False False False\n",
       " False False False False False False False False False False False False\n",
       " False False False False False False False False False False False True\n",
       " False False False False True False False False False False False False\n",
       " False True True False False False False False False False False False True\n",
       " False False False False False False False False False False False False\n",
       " True True True True False False False False False True True True True\n",
       " False False True True False False False False False False False False True\n",
       " True False False False False False False False False False True False\n",
       " False False False False False False False False True True False True True\n",
       " True True False False True True True True True True True False False True\n",
       " True False False False False False False False False True True False False\n",
       " False False True False False True False True True False True False False\n",
       " False False False False True True True True True True True False False\n",
       " True True True True True True True False False True True False False False\n",
       " False False False False False True],\n",
       "             mask = [False False False False False False False False False False False False\n",
       " False False False False False False False False False False False False\n",
       " False False False False False False False False False False False False\n",
       " False False False False False False False False False False False False\n",
       " False False False False False False False False False False False False\n",
       " False False False False False False False False False False False False\n",
       " False False False False False False False False False False False False\n",
       " False False False False False False False False False False False False\n",
       " False False False False False False False False False False False False\n",
       " False False False False False False False False False False False False\n",
       " False False False False False False False False False False False False\n",
       " False False False False False False False False False False False False\n",
       " False False False False False False False False False False False False\n",
       " False False False False False False False False False False False False\n",
       " False False False False False False False False False False False False\n",
       " False False False False False False False False False False False False\n",
       " False False False False False False False False False False False False\n",
       " False False False False False False False False False False False False\n",
       " False False False False False False False False False False False False\n",
       " False False False False False False False False False False False False\n",
       " False False False False False],\n",
       "       fill_value = True)"
      ]
     },
     "execution_count": 151,
     "metadata": {},
     "output_type": "execute_result"
    }
   ],
   "source": [
    "np.isnan(all_males)"
   ]
  },
  {
   "cell_type": "code",
   "execution_count": null,
   "metadata": {
    "collapsed": true
   },
   "outputs": [],
   "source": []
  }
 ],
 "metadata": {
  "kernelspec": {
   "display_name": "Python 2",
   "language": "python",
   "name": "python2"
  },
  "language_info": {
   "codemirror_mode": {
    "name": "ipython",
    "version": 2
   },
   "file_extension": ".py",
   "mimetype": "text/x-python",
   "name": "python",
   "nbconvert_exporter": "python",
   "pygments_lexer": "ipython2",
   "version": "2.7.10"
  }
 },
 "nbformat": 4,
 "nbformat_minor": 0
}
