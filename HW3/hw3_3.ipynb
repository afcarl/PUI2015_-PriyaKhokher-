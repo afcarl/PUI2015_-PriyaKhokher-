{
 "cells": [
  {
   "cell_type": "code",
   "execution_count": 1,
   "metadata": {
    "collapsed": false
   },
   "outputs": [
    {
     "name": "stdout",
     "output_type": "stream",
     "text": [
      "Populating the interactive namespace from numpy and matplotlib\n"
     ]
    }
   ],
   "source": [
    "import pylab as pl\n",
    "import pandas as pd\n",
    "import numpy as np\n",
    "%pylab inline\n",
    "import csv\n",
    "import os\n",
    "import collections"
   ]
  },
  {
   "cell_type": "code",
   "execution_count": 2,
   "metadata": {
    "collapsed": false
   },
   "outputs": [],
   "source": [
    "july=pd.read_csv(\"Desktop\\PUIProj\\data\\July.csv\")\n",
    "aug=pd.read_csv(\"Desktop\\PUIProj\\data\\Aug.csv\")\n",
    "\n",
    "jan=pd.read_csv(\"Desktop\\PUIProj\\data\\Jan.csv\")\n",
    "feb=pd.read_csv(\"Desktop\\PUIProj\\data\\Feb.csv\")\n",
    "\n"
   ]
  },
  {
   "cell_type": "code",
   "execution_count": 3,
   "metadata": {
    "collapsed": false
   },
   "outputs": [],
   "source": [
    "summer=pd.concat([july,aug])\n",
    "winter=pd.concat([jan,feb])"
   ]
  },
  {
   "cell_type": "code",
   "execution_count": 15,
   "metadata": {
    "collapsed": false
   },
   "outputs": [
    {
     "data": {
      "text/plain": [
       "1863362"
      ]
     },
     "execution_count": 15,
     "metadata": {},
     "output_type": "execute_result"
    }
   ],
   "source": [
    "summer_sub = summer[summer['usertype'] == 'Subscriber']\n",
    "winter_sub = winter[winter['usertype'] == 'Subscriber']\n",
    "len(summer_sub)\n",
    "\n"
   ]
  },
  {
   "cell_type": "code",
   "execution_count": 29,
   "metadata": {
    "collapsed": false
   },
   "outputs": [
    {
     "data": {
      "text/plain": [
       "474589"
      ]
     },
     "execution_count": 29,
     "metadata": {},
     "output_type": "execute_result"
    }
   ],
   "source": [
    "len(winter_sub)"
   ]
  },
  {
   "cell_type": "code",
   "execution_count": 30,
   "metadata": {
    "collapsed": false
   },
   "outputs": [
    {
     "data": {
      "text/plain": [
       "847.6284874217305"
      ]
     },
     "execution_count": 30,
     "metadata": {},
     "output_type": "execute_result"
    }
   ],
   "source": [
    "np.std(winter_sub.tripduration)"
   ]
  },
  {
   "cell_type": "code",
   "execution_count": 26,
   "metadata": {
    "collapsed": false
   },
   "outputs": [
    {
     "data": {
      "text/plain": [
       "5576.33946716841"
      ]
     },
     "execution_count": 26,
     "metadata": {},
     "output_type": "execute_result"
    }
   ],
   "source": [
    "np.std(summer_sub.tripduration)"
   ]
  },
  {
   "cell_type": "code",
   "execution_count": 12,
   "metadata": {
    "collapsed": false
   },
   "outputs": [],
   "source": [
    "\n",
    "s=[]\n",
    "w=[]\n",
    "counts_s=len(summer_sub)\n",
    "#error_s=np.sqrt(counts_s)\n",
    "counts_w=len(winter_sub)\n",
    "#error_w=np.sqrt(counts_w)\n",
    "\n",
    "sum_num=len(summer_sub)\n",
    "win_num=len(winter_sub)\n",
    "#implemeting central limit theorem and getting the histogram - thereby getting the average mean for both samples\n",
    "import itertools\n",
    "sn=itertools.combinations(range(win_num),10000)\n",
    "wn=itertools.combinations(range(win_num),10000)\n",
    "\n",
    "for i in range(sum_num:\n",
    "    something=np.random.choice(summer_sub.tripduration,10000)\n",
    "    s.append(np.mean(something))\n",
    "    \n",
    "    \n",
    "for i in range(win_num):\n",
    "    something=np.random.choice(winter_sub.tripduration,10000)\n",
    "    w.append(np.mean(something)) \n",
    "    \n",
    "               \n",
    "       \n",
    "\n",
    "     \n",
    "    \n",
    "    \n",
    "    \n",
    "    \n"
   ]
  },
  {
   "cell_type": "code",
   "execution_count": 18,
   "metadata": {
    "collapsed": false
   },
   "outputs": [
    {
     "name": "stdout",
     "output_type": "stream",
     "text": [
      "(array([   644, 334153, 783368, 132279, 106480, 370086,  74903]), array([ 600,  700,  750,  790,  800,  810,  900, 1000]))\n",
      "783368\n"
     ]
    }
   ],
   "source": [
    "h=np.histogram(s,bins=xrange(650,1000,25))\n",
    "print h\n",
    "print max(h[0])\n",
    "hw=np.histogram(w,bins=xrange(650,1000,25))\n",
    "print hw\n",
    "print max(w[0])"
   ]
  },
  {
   "cell_type": "code",
   "execution_count": 45,
   "metadata": {
    "collapsed": false
   },
   "outputs": [
    {
     "name": "stdout",
     "output_type": "stream",
     "text": [
      "760\n",
      "z = 209.437653357\n"
     ]
    }
   ],
   "source": [
    "sum_m= 760\n",
    "win_m= 620\n",
    "\n",
    "\n",
    "\n",
    "\n",
    "\n",
    "print sum_m\n",
    "\n",
    "k=np.sqrt(1863362)\n",
    "m=847.3/k\n",
    "print 'z =',(760-630)/m\n",
    "\n"
   ]
  },
  {
   "cell_type": "markdown",
   "metadata": {},
   "source": [
    "From the z table the p-value we get is 0.0002 thereby rejecting the null hypothesis"
   ]
  }
 ],
 "metadata": {
  "kernelspec": {
   "display_name": "Python 2",
   "language": "python",
   "name": "python2"
  },
  "language_info": {
   "codemirror_mode": {
    "name": "ipython",
    "version": 2
   },
   "file_extension": ".py",
   "mimetype": "text/x-python",
   "name": "python",
   "nbconvert_exporter": "python",
   "pygments_lexer": "ipython2",
   "version": "2.7.10"
  }
 },
 "nbformat": 4,
 "nbformat_minor": 0
}
