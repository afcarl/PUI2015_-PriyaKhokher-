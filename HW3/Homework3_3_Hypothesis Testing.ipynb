{
 "cells": [
  {
   "cell_type": "code",
   "execution_count": null,
   "metadata": {
    "collapsed": true
   },
   "outputs": [],
   "source": [
    "NULL HYPOTHESIS \n",
    "H0:\"The average tripduration of subscribers in summers is same as average tripduration of subscribers in winters\"\n",
    "    \n",
    "ALTERNATIVE HYPOTHESIS H1: There is a difference between the two averages (meaning it is two tailed test,and\n",
    "                           that we are saying average in summer != average in winter)\n",
    "    \n",
    "The alpha level chosen is 0.05   "
   ]
  },
  {
   "cell_type": "code",
   "execution_count": 1,
   "metadata": {
    "collapsed": false
   },
   "outputs": [
    {
     "name": "stdout",
     "output_type": "stream",
     "text": [
      "Populating the interactive namespace from numpy and matplotlib\n"
     ]
    }
   ],
   "source": [
    "import pylab as pl\n",
    "import pandas as pd\n",
    "import numpy as np\n",
    "%pylab inline\n",
    "import csv\n",
    "import os\n",
    "import collections\n",
    "import scipy.stats as sci"
   ]
  },
  {
   "cell_type": "code",
   "execution_count": 2,
   "metadata": {
    "collapsed": false
   },
   "outputs": [],
   "source": [
    "#The data taken is of the year 2015 . We are taking January and February as winter months and \n",
    "#July and August as summer months. These two months form the sample from the population of summer and winter months\n",
    "\n",
    "july=pd.read_csv(\"Desktop\\PUIProj\\data\\July.csv\")\n",
    "aug=pd.read_csv(\"Desktop\\PUIProj\\data\\Aug.csv\")\n",
    "\n",
    "jan=pd.read_csv(\"Desktop\\PUIProj\\data\\Jan.csv\")\n",
    "feb=pd.read_csv(\"Desktop\\PUIProj\\data\\Feb.csv\")\n",
    "\n"
   ]
  },
  {
   "cell_type": "code",
   "execution_count": 3,
   "metadata": {
    "collapsed": false
   },
   "outputs": [],
   "source": [
    "#Combining the two summer and winter months into different data frames of summer and winter\n",
    "summer=pd.concat([july,aug])\n",
    "winter=pd.concat([jan,feb])"
   ]
  },
  {
   "cell_type": "code",
   "execution_count": 4,
   "metadata": {
    "collapsed": false
   },
   "outputs": [
    {
     "data": {
      "text/plain": [
       "1863362"
      ]
     },
     "execution_count": 4,
     "metadata": {},
     "output_type": "execute_result"
    }
   ],
   "source": [
    "summer_sub = summer[summer['usertype'] == 'Subscriber']\n",
    "winter_sub = winter[winter['usertype'] == 'Subscriber']\n",
    "len(summer_sub)\n",
    "\n"
   ]
  },
  {
   "cell_type": "code",
   "execution_count": 29,
   "metadata": {
    "collapsed": false
   },
   "outputs": [
    {
     "data": {
      "text/plain": [
       "474589"
      ]
     },
     "execution_count": 29,
     "metadata": {},
     "output_type": "execute_result"
    }
   ],
   "source": [
    "len(winter_sub)"
   ]
  },
  {
   "cell_type": "code",
   "execution_count": 6,
   "metadata": {
    "collapsed": false
   },
   "outputs": [],
   "source": [
    "\n",
    "s=[]\n",
    "w=[]\n",
    "\n",
    "\n",
    "sum_num=len(summer_sub)\n",
    "win_num=len(winter_sub)\n",
    "#implemeting central limit theorem and getting the histogram (if you want to verify)- thereby getting the average mean for both samples\n",
    "#we get arrays required for the t-test\n",
    "\n",
    "import itertools\n",
    "sn=itertools.combinations(range(win_num),1000)\n",
    "wn=itertools.combinations(range(win_num),1000)\n",
    "\n",
    "for i in range(sum_num):\n",
    "    something=np.random.choice(summer_sub.tripduration,1000)\n",
    "    s.append(np.mean(something))\n",
    "    \n",
    "    \n",
    "for i in range(win_num):\n",
    "    something=np.random.choice(winter_sub.tripduration,10000)\n",
    "    w.append(np.mean(something)) \n",
    "    \n",
    "               \n",
    "       \n",
    "\n",
    "     \n",
    "    \n",
    "    \n",
    "    \n",
    "    \n"
   ]
  },
  {
   "cell_type": "code",
   "execution_count": 8,
   "metadata": {
    "collapsed": false
   },
   "outputs": [
    {
     "data": {
      "text/plain": [
       "(681.64834008353967, 0.0)"
      ]
     },
     "execution_count": 8,
     "metadata": {},
     "output_type": "execute_result"
    }
   ],
   "source": [
    "sci.ttest_ind(s,w)"
   ]
  },
  {
   "cell_type": "markdown",
   "metadata": {},
   "source": [
    "As p-value = 0.0 which is less than our alpha level(0.05) we can reject our null hypothesis"
   ]
  },
  {
   "cell_type": "code",
   "execution_count": 10,
   "metadata": {
    "collapsed": false
   },
   "outputs": [
    {
     "name": "stdout",
     "output_type": "stream",
     "text": [
      "[815.66999999999996, 1303.424, 777.61400000000003, 743.64999999999998, 919.24699999999996]\n",
      "[641.29669999999999, 638.23800000000006, 632.97260000000006, 630.22760000000005, 647.00699999999995]\n"
     ]
    }
   ],
   "source": [
    "#Just to show the values in the array \n",
    "print s[:5]\n",
    "print w[:5]"
   ]
  },
  {
   "cell_type": "code",
   "execution_count": 30,
   "metadata": {
    "collapsed": false
   },
   "outputs": [
    {
     "data": {
      "text/plain": [
       "847.6284874217305"
      ]
     },
     "execution_count": 30,
     "metadata": {},
     "output_type": "execute_result"
    }
   ],
   "source": [
    "np.std(winter_sub.tripduration)"
   ]
  },
  {
   "cell_type": "code",
   "execution_count": 26,
   "metadata": {
    "collapsed": false
   },
   "outputs": [
    {
     "data": {
      "text/plain": [
       "5576.33946716841"
      ]
     },
     "execution_count": 26,
     "metadata": {},
     "output_type": "execute_result"
    }
   ],
   "source": [
    "np.std(summer_sub.tripduration)"
   ]
  },
  {
   "cell_type": "code",
   "execution_count": 45,
   "metadata": {
    "collapsed": false
   },
   "outputs": [
    {
     "name": "stdout",
     "output_type": "stream",
     "text": [
      "760\n",
      "z = 209.437653357\n"
     ]
    }
   ],
   "source": [
    "#I had tried with the z -test too ,though it is not an appropriate test,after knowing the mean of summer and winter times\n",
    "\n",
    "sum_m= 760\n",
    "win_m= 620\n",
    "\n",
    "\n",
    "\n",
    "\n",
    "\n",
    "print sum_m\n",
    "\n",
    "k=np.sqrt(1863362)\n",
    "m=847.3/k\n",
    "print 'z =',(760-630)/m\n",
    "\n"
   ]
  },
  {
   "cell_type": "markdown",
   "metadata": {},
   "source": [
    "From the z table the p-value we get is 0.0002 thereby rejecting the null hypothesis"
   ]
  }
 ],
 "metadata": {
  "kernelspec": {
   "display_name": "Python 2",
   "language": "python",
   "name": "python2"
  },
  "language_info": {
   "codemirror_mode": {
    "name": "ipython",
    "version": 2
   },
   "file_extension": ".py",
   "mimetype": "text/x-python",
   "name": "python",
   "nbconvert_exporter": "python",
   "pygments_lexer": "ipython2",
   "version": "2.7.10"
  }
 },
 "nbformat": 4,
 "nbformat_minor": 0
}
